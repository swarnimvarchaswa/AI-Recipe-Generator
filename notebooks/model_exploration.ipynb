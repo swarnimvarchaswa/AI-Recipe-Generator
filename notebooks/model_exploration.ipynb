{
 "cells": [
  {
   "cell_type": "markdown",
   "metadata": {},
   "source": [
    "# Model Exploration\n",
    "\n",
    "This notebook is used for exploring the performance of the AI-powered recipe generator model. We will experiment with different configurations and evaluate the model's accuracy based on the provided datasets."
   ]
  },
  {
   "cell_type": "code",
   "execution_count": null,
   "metadata": {
    "collapsed": false
   },
   "outputs": [],
   "source": [
    "import json\n",
    "import pandas as pd\n",
    "import spacy\n",
    "from src.data.data_loader import load_recipes, load_ingredients\n",
    "from src.models.recipe_generator import RecipeGenerator\n",
    "from src.models.ingredient_processor import IngredientProcessor\n",
    "\n",
    "# Load datasets\n",
    "recipes = load_recipes('../data/recipes.json')\n",
    "ingredients = load_ingredients('../data/ingredients.csv')\n",
    "\n",
    "# Initialize models\n",
    "nlp = spacy.load('en_core_web_sm')\n",
    "ingredient_processor = IngredientProcessor()\n",
    "recipe_generator = RecipeGenerator()\n",
    "\n",
    "# Example of processing ingredients\n",
    "processed_ingredients = ingredient_processor.process_ingredients(ingredients['ingredient'].tolist())\n",
    "\n",
    "# Generate a recipe based on processed ingredients\n",
    "generated_recipe = recipe_generator.generate_recipe(processed_ingredients)\n",
    "\n",
    "# Display the generated recipe\n",
    "print(generated_recipe)\n"
   ]
  },
  {
   "cell_type": "markdown",
   "metadata": {},
   "source": [
    "## Evaluation\n",
    "\n",
    "In this section, we will evaluate the accuracy of the generated recipes against the original recipes dataset. We can implement metrics such as BLEU score or any other relevant metrics to quantify the performance."
   ]
  },
  {
   "cell_type": "code",
   "execution_count": null,
   "metadata": {
    "collapsed": false
   },
   "outputs": [],
   "source": [
    "# Evaluation metrics can be implemented here\n",
    "# For example, using BLEU score from nltk\n",
    "# from nltk.translate.bleu_score import sentence_bleu\n",
    "\n",
    "# Calculate BLEU score for generated recipes\n",
    "# bleu_score = sentence_bleu(reference, generated_recipe)\n",
    "# print(f'BLEU score: {bleu_score}')\n"
   ]
  }
 ],
 "metadata": {
  "kernelspec": {
   "display_name": "Python 3",
   "language": "python",
   "name": "python3"
  },
  "language_info": {
   "codemirror_mode": {
    "name": "ipython",
    "version": 3
   },
   "file_extension": ".py",
   "mimetype": "text/x-python",
   "name": "python",
   "nbconvert_exporter": "python",
   "pygments_lexer": "ipython3",
   "version": "3.8.5"
  }
 },
 "nbformat": 4,
 "nbformat_minor": 4
}